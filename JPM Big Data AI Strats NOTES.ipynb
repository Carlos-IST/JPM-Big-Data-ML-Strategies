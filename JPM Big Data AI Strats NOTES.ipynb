{
 "cells": [
  {
   "cell_type": "heading",
   "metadata": {
    "collapsed": true
   },
   "level": 1,
   "source": [
    "Notes on JP Morgan´s Big Data & AI Strategies\n"
   ]
  },
  {
   "cell_type": "heading",
   "metadata": {},
   "level": 1,
   "source": [
    "by Carlos Santillán"
   ]
  },
  {
   "cell_type": "heading",
   "metadata": {},
   "level": 2,
   "source": [
    "Summary"
   ]
  },
  {
   "cell_type": "heading",
   "metadata": {},
   "level": 3,
   "source": [
    "Datasets & Methodologies\n"
   ]
  },
  {
   "cell_type": "markdown",
   "metadata": {},
   "source": [
    "- **Supervised Learning** (regressions, classifications)\n",
    "- **Unsupervised Learning** (factor analysis, clustering)\n",
    "- **Deep & Reinforcement Learning** (analyze unstructured data to find patterns) "
   ]
  },
  {
   "cell_type": "heading",
   "metadata": {},
   "level": 3,
   "source": [
    "Fear of Big Data & AI"
   ]
  },
  {
   "cell_type": "markdown",
   "metadata": {},
   "source": [
    "- ML methods are often simple extensions of well-known statistical methods\n",
    "- **Supervised Learning Methods** aim to establish a relationship between 2 datasets and use one dataset to forecast the other\n",
    "- **Unsupervised Learning Methods** try to understand te structure of data and identify the main drivers behind it "
   ]
  },
  {
   "cell_type": "heading",
   "metadata": {},
   "level": 3,
   "source": [
    "How will Big Data & Machine Learning change the invesment landscape?"
   ]
  },
  {
   "cell_type": "markdown",
   "metadata": {},
   "source": [
    "- The *mkt will start reacting faster* and will increasingly anticipate traditional or \"old\" data sources (e.g. quarterly corporate earnings, low frecuency macroeconomic data, etc)\n",
    "- As the Big Data ecosystem evolves, datasets that have *high Sharpe ratio signals* (viable as a standalone funds) will disappear"
   ]
  },
  {
   "cell_type": "heading",
   "metadata": {},
   "level": 3,
   "source": [
    "Potential Pitfalls of Big Data & Machine Learning"
   ]
  },
  {
   "cell_type": "markdown",
   "metadata": {},
   "source": [
    "- **Machine Learning algorithms cannot entirely replace human intuition**\n",
    "- Regarding **talent:** employing data scientists who lack specific financial expertise or financial intuition may not lead to the desired investment results\n",
    "- In implementing Big Data & Machine Learning in Finance, it is more important to understand the economics behind data and signals, than to be able to develop complex technological solutions"
   ]
  },
  {
   "cell_type": "heading",
   "metadata": {},
   "level": 3,
   "source": [
    "Roles of Humans and Machines"
   ]
  },
  {
   "cell_type": "markdown",
   "metadata": {},
   "source": [
    "- For **short term trading** such as high frequency mkt making, humans already play a very small role\n",
    "- **Long term horizon**, machines will likely not do well in assesing regime changes (mkt turning points) and forecasts which involve interpreting more complicated human responses such as those of politicians and central bankers, understanding client positioning, or anticipate crowding"
   ]
  },
  {
   "cell_type": "heading",
   "metadata": {},
   "level": 2,
   "source": [
    "Introduction to Big Data & Machine Learning"
   ]
  },
  {
   "cell_type": "markdown",
   "metadata": {},
   "source": [
    "- This *industrial revolution of data* seeks to provide **alpha** through informational advantage and the ability to uncover new uncorrelated signals\n",
    "- The informational advantage of Big Data is **not related to expert and industry networks, access to corporate management, etc., but rather the ability to collect large quantities of data and analyze them in real time\n"
   ]
  },
  {
   "cell_type": "heading",
   "metadata": {},
   "level": 3,
   "source": [
    "The 3 trends that enabled the Big Data revolution"
   ]
  },
  {
   "cell_type": "markdown",
   "metadata": {},
   "source": [
    "1. Exponential increase in amount of data\n",
    "\t* 90% of the data in the world today has been created in the past 2 years alone [^1]\n",
    "\t* 4.4 zettabytes (or trillion gigabytes) in late 2015 to 44 zettabytes by 2020[^2]\n",
    "\n",
    "2. Increases in computing power & storage capacity\n",
    "\t* by 2020, over 1/3 of all data will either live in or pass through the cloud[^3]\n",
    "\t* Technology vendors provide remote access classified into:\n",
    "\t\t* Software-as-a-service (SaaS)\n",
    "\t\t* Platform-as-a-service (PaaS) or \n",
    "\t\t* Infrastructure-as-a-service (IaaS) categories\n",
    "\n",
    "3. Machine Learning Methods to analyze large & complex datasets\n",
    "\t* ML techniques enable analysis of large and unstructured datasets and construction of trading strategies\n",
    "\t* **Deep Learning** is an analysis method that relies on multi-layer neural networks\n",
    "\t* **Reinforcement Learning** is a specific approach that is encouraging algorithms to explore and find the most profitable strategies\n",
    "\t* Currently, just 0.5% of the data produced is currently being analyzed"
   ]
  },
  {
   "cell_type": "markdown",
   "metadata": {},
   "source": [
    "![Figure 1](//CHRB1023.CORP.GWPNET.COM/homes/V/S8C9V6/Documents/2018_2/ML_Pictures)/JPM 1.png"
   ]
  },
  {
   "cell_type": "heading",
   "metadata": {},
   "level": 3,
   "source": [
    "Definitions"
   ]
  },
  {
   "cell_type": "markdown",
   "metadata": {},
   "source": [
    "- **Big Data**\n",
    "\t* \"Big\" stands in for 3 prominent characteristics:\n",
    "\t\t1. Volume: size of data collected\n",
    "\t\t2. Velocity: speed with which data is sent or received\n",
    "\t\t3. Variety: formats"
   ]
  },
  {
   "cell_type": "markdown",
   "metadata": {},
   "source": []
  },
  {
   "cell_type": "markdown",
   "metadata": {},
   "source": [
    "- **Machine Learning (ML)**\n",
    "\t* In finance, one can view ML as an attempt at *uncovering realationships between variables*\n",
    "\t* ML can also be seen as a *model-independent (or statistical or data-driven) way* for *recognizing patterns* in large data sets\n",
    "\n",
    "\t* **Supervised Learning** (regressions and classifications)\n",
    "\n",
    "\t* **Unsupervised Learning** (factor analyses and regime identification)\n",
    "\n",
    "\t* **Deep & Reinforced Learning**\n",
    "\t\t* Deep Learning is based on neural network algorithms and is used in processing unstructured data\n"
   ]
  },
  {
   "cell_type": "markdown",
   "metadata": {},
   "source": [
    "- **Artificial Intelligence (AI)**\n",
    "\n",
    "\t* ML is another attempt to achieve AI\n",
    "\n",
    "\t* ML and specifically Deep Learning so far represent the most serious attempt at achieving AI\n",
    "\n",
    "\t* While Deep Learning based AI can excel and beat humans in many tasks, it cannot do so in all. It is still struggling with some basic tasks such as the **Winograd Schema Challenge**\n"
   ]
  },
  {
   "cell_type": "heading",
   "metadata": {},
   "level": 2,
   "source": [
    "Classification of Alternative Data Sets"
   ]
  },
  {
   "cell_type": "markdown",
   "metadata": {},
   "source": [
    "- The advantage given by data can be in the form of uncovering new information not contained in traditional sources, or uncovering the same information but at an earlier time\n",
    "\n",
    "\t* Satellite imagery of mines or agricultural land can reveal supply disruptions before they are broadly reported in the news or official reports"
   ]
  },
  {
   "cell_type": "heading",
   "metadata": {},
   "level": 3,
   "source": [
    "Classsification of Data Sources"
   ]
  },
  {
   "cell_type": "markdown",
   "metadata": {},
   "source": [
    "1. Data generated by Individuals\n",
    "\n",
    "\t* Often in unstructured textual formats, needs Natural Language Processing\n",
    "\n",
    "2. Sensor generated data\n",
    "\n",
    "\t* Tends to be unstructured and may require analysis techniques such as counting objects, or removing the impact of weather/clouds from a satellite image\n",
    "\n",
    "3. Business generated datasets\n",
    "\n",
    "\t* Such as credit card transactions and company \"exhaust\" data have common legal and privacy considerations"
   ]
  },
  {
   "cell_type": "markdown",
   "metadata": {},
   "source": [
    "Figure 3\n"
   ]
  },
  {
   "cell_type": "markdown",
   "metadata": {},
   "source": [
    "- **Data generated by Business Processes**\n",
    "\n",
    "\t* Data generated by business processes is often highly structured (in contrast to human-generated data) and can act as a leading indicator for corporate metrics, which tend to be reported at a significantly lower frequency\n",
    "\n",
    "- **Data generated by sensors**\n",
    "\n",
    "\t* The data generated is typically unstructured and its size is often significantly larger than either human or process-generated data streams\n",
    "\n",
    "\t* Perhaps the most promising is the future concept of the Internet of Things (IoT) - the practice of embedding micro-processors and networking technology into all personal and commercial electronic devices\n",
    "\n"
   ]
  },
  {
   "cell_type": "heading",
   "metadata": {},
   "level": 3,
   "source": [
    "Relevance-Classification according to Data Quants\n"
   ]
  },
  {
   "cell_type": "markdown",
   "metadata": {},
   "source": [
    "- High frequency quant traders will care about all signals that can be produced on an intraday basic such as tweets, news releases, etc. but will care less about e.g. credit card data that come with substantial delays and are less broadly followed"
   ]
  },
  {
   "cell_type": "markdown",
   "metadata": {},
   "source": [
    "Figure 4\n"
   ]
  },
  {
   "cell_type": "markdown",
   "metadata": {},
   "source": [
    "1. **Asset class**\n",
    "\n",
    "\t* There is relatively little alternative data on interest rates and currencies, making such data sets more valuable\n",
    "\n",
    "2. **Investment style** \n",
    "\n",
    "\t* most data are sector and stock specific and relevant for equity long-short investors\n",
    "\n",
    "3. **Alpha Content (most important attribute)**\n",
    "\n",
    "\t* Alpha content has to be analyzed in the context of the price to purchase and implement the dataset\n",
    "\n",
    "\t\t- Sentiment analysis can be obtained for a few hundred or thousand dollars\n",
    "\t\t- Comprehensive credit card data can cost up to a few million USD a year\n",
    "\n",
    "\t* Most of data have a small positive Sharpe ratio that is not sufficiently high for a standalone investment strategy\n",
    "\n",
    "4. **How well-known is the dataset**\n",
    "\n",
    "\t* **Well-known public datasets** such as financial ratios (P7E, P/B, etc.) likely have fairly low alpha content and are not viable as a standalone strategies (they may still be useful in a diversified risk premia portfolio)\n",
    "\n",
    "5. **Stage of processing**\n",
    "\n",
    "\t* The highest level of data processing happens when data is presented in the form of **research reports**, alerts or trade ideas\n",
    "\t\t- Semi-processed data still has some outliers and gaps, and is not readily usable as input into a trading model\n",
    "\n",
    "6. **Quality**\n",
    "\n",
    "\t* Data with longer **history** is often more desirable for the purpose of testing\n",
    "\t\t- satellite imagery > 3 years\n",
    "\t\t- sentiment data > 5 years\n",
    "\t  \t- credit card data > 7 years\n",
    "\t\t- datasets with less than 50 points are typycally less useful\n",
    "\n",
    "\t* It must be specified, if the missing data was missing at random or had patterns\n",
    "\n",
    " \t* Data should have a robust support structure for clients\n",
    "\n",
    "7. **Technical Aspects**\n",
    "\n",
    "\t* Frequency of data\n",
    "\t* Latency\n",
    "\t* Format (preferably .csv)\n",
    "\t* Legal and reputational risk\n",
    "\n"
   ]
  },
  {
   "cell_type": "markdown",
   "metadata": {},
   "source": [
    "Figure 5"
   ]
  },
  {
   "cell_type": "heading",
   "metadata": {},
   "level": 2,
   "source": [
    "Classification of Machine Learning Techniques"
   ]
  },
  {
   "cell_type": "markdown",
   "metadata": {},
   "source": [
    "- Automated analysis of unstructured data such as images, social media, and press releases is not possible with the standard tools of financial analysis\n",
    "\n",
    "\n"
   ]
  },
  {
   "cell_type": "heading",
   "metadata": {},
   "level": 3,
   "source": [
    "What is the application of Machine Learning in finance, and how do these methods differ from each other?\n"
   ]
  },
  {
   "cell_type": "markdown",
   "metadata": {},
   "source": [
    "- Automation of tasks **is not** considered Machine Learning\n",
    "\n",
    "\t* We can instruct a computer to sell an asset if the asset price drops by a certain amount (stop loss)\n",
    "\n",
    "- In **Machine Learning**, the computer is given an input (set of variables and datasets) and output that is a consequence of the input variables. The machine then finds or *learns* a rule that links the input and output\n",
    "\n",
    "- In **Supervised Learning**, we find a rule, an *equation* that wwe can use to predict a variable\n",
    "\n",
    "\t* We may want to look for a momentum (trend following) signal that will have the best ability to predict future market performance\n",
    "\t\t- This may be accomplished by running advanced regression models to asses which one has the higher predictive power\n",
    "\n",
    "- In **Unsupervised Learning** we are uncovering the structure of data\n",
    "\n",
    "\t* We take market returns and try to identify the main drivers of the market\n",
    "\n",
    "\t* A successful model may find that at one point in time, the market is driven by the momentum factor, energy prices, level of USD, and a new factor that may be related to liquidity\n",
    "\n",
    "- **Deep Learning** is a Machine Learning method that analyszes data in multiple layers of learning"
   ]
  },
  {
   "cell_type": "code",
   "execution_count": null,
   "metadata": {},
   "outputs": [],
   "source": []
  }
 ],
 "metadata": {
  "kernelspec": {
   "display_name": "Python 2",
   "language": "python",
   "name": "python2"
  },
  "language_info": {
   "codemirror_mode": {
    "name": "ipython",
    "version": 2
   },
   "file_extension": ".py",
   "mimetype": "text/x-python",
   "name": "python",
   "nbconvert_exporter": "python",
   "pygments_lexer": "ipython2",
   "version": "2.7.6"
  }
 },
 "nbformat": 4,
 "nbformat_minor": 0
}
