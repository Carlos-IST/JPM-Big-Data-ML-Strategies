{
 "cells": [
  {
   "cell_type": "heading",
   "metadata": {
    "collapsed": true
   },
   "level": 1,
   "source": [
    "Notes on JP Morgan´s Big Data & AI Strategies\n"
   ]
  },
  {
   "cell_type": "heading",
   "metadata": {},
   "level": 1,
   "source": [
    "by Carlos Santillán"
   ]
  },
  {
   "cell_type": "heading",
   "metadata": {},
   "level": 2,
   "source": [
    "Summary"
   ]
  },
  {
   "cell_type": "heading",
   "metadata": {},
   "level": 3,
   "source": [
    "Datasets & Methodologies\n"
   ]
  },
  {
   "cell_type": "markdown",
   "metadata": {},
   "source": [
    "- **Supervised Learning** (regressions, classifications)\n",
    "- **Unsupervised Learning** (factor analysis, clustering)\n",
    "- **Deep & Reinforcement Learning** (analyze unstructured data to find patterns) "
   ]
  },
  {
   "cell_type": "heading",
   "metadata": {},
   "level": 3,
   "source": [
    "Fear of Big Data & AI"
   ]
  },
  {
   "cell_type": "markdown",
   "metadata": {},
   "source": [
    "- ML methods are often simple extensions of well-known statistical methods\n",
    "- **Supervised Learning Methods** aim to establish a relationship between 2 datasets and use one dataset to forecast the other\n",
    "- **Unsupervised Learning Methods** try to understand te structure of data and identify the main drivers behind it "
   ]
  },
  {
   "cell_type": "heading",
   "metadata": {},
   "level": 3,
   "source": [
    "How will Big Data & Machine Learning change the invesment landscape?"
   ]
  },
  {
   "cell_type": "markdown",
   "metadata": {},
   "source": [
    "- The *mkt will start reacting faster* and will increasingly anticipate traditional or \"old\" data sources (e.g. quarterly corporate earnings, low frecuency macroeconomic data, etc)\n",
    "- As the Big Data ecosystem evolves, datasets that have *high Sharpe ratio signals* (viable as a standalone funds) will disappear"
   ]
  },
  {
   "cell_type": "heading",
   "metadata": {},
   "level": 3,
   "source": [
    "Potential Pitfalls of Big Data & Machine Learning"
   ]
  },
  {
   "cell_type": "markdown",
   "metadata": {},
   "source": [
    "- **Machine Learning algorithms cannot entirely replace human intuition**\n",
    "- Regarding **talent:** employing data scientists who lack specific financial expertise or financial intuition may not lead to the desired investment results\n",
    "- In implementing Big Data & Machine Learning in Finance, it is more important to understand the economics behind data and signals, than to be able to develop complex technological solutions"
   ]
  },
  {
   "cell_type": "heading",
   "metadata": {},
   "level": 3,
   "source": [
    "Roles of Humans and Machines"
   ]
  },
  {
   "cell_type": "markdown",
   "metadata": {},
   "source": [
    "- For **short term trading** such as high frequency mkt making, humans already play a very small role\n",
    "- **Long term horizon**, machines will likely not do well in assesing regime changes (mkt turning points) and forecasts which involve interpreting more complicated human responses such as those of politicians and central bankers, understanding client positioning, or anticipate crowding"
   ]
  },
  {
   "cell_type": "heading",
   "metadata": {},
   "level": 2,
   "source": [
    "Introduction to Big Data & Machine Learning"
   ]
  },
  {
   "cell_type": "markdown",
   "metadata": {},
   "source": [
    "- This *industrial revolution of data* seeks to provide **alpha** through informational advantage and the ability to uncover new uncorrelated signals\n",
    "- The informational advantage of Big Data is **not related to expert and industry networks, access to corporate management, etc., but rather the ability to collect large quantities of data and analyze them in real time\n"
   ]
  },
  {
   "cell_type": "heading",
   "metadata": {},
   "level": 3,
   "source": [
    "The 3 trends that enabled the Big Data revolution"
   ]
  },
  {
   "cell_type": "markdown",
   "metadata": {},
   "source": [
    "1. Exponential increase in amount of data\n",
    "\t* 90% of the data in the world today has been created in the past 2 years alone [^1]\n",
    "\t* 4.4 zettabytes (or trillion gigabytes) in late 2015 to 44 zettabytes by 2020[^2]\n",
    "\n",
    "2. Increases in computing power & storage capacity\n",
    "\t* by 2020, over 1/3 of all data will either live in or pass through the cloud[^3]\n",
    "\t* Technology vendors provide remote access classified into:\n",
    "\t\t* Software-as-a-service (SaaS)\n",
    "\t\t* Platform-as-a-service (PaaS) or \n",
    "\t\t* Infrastructure-as-a-service (IaaS) categories\n",
    "\n",
    "3. Machine Learning Methods to analyze large & complex datasets\n",
    "\t* ML techniques enable analysis of large and unstructured datasets and construction of trading strategies\n",
    "\t* **Deep Learning** is an analysis method that relies on multi-layer neural networks\n",
    "\t* **Reinforcement Learning** is a specific approach that is encouraging algorithms to explore and find the most profitable strategies\n",
    "\t* Currently, just 0.5% of the data produced is currently being analyzed"
   ]
  },
  {
   "cell_type": "markdown",
   "metadata": {},
   "source": [
    "![Figure 1](//CHRB1023.CORP.GWPNET.COM/homes/V/S8C9V6/Documents/2018_2/ML_Pictures)/JPM 1.png"
   ]
  },
  {
   "cell_type": "heading",
   "metadata": {},
   "level": 3,
   "source": [
    "Definitions"
   ]
  },
  {
   "cell_type": "markdown",
   "metadata": {},
   "source": [
    "- **Big Data**\n",
    "\t* \"Big\" stands in for 3 prominent characteristics:\n",
    "\t\t1. Volume: size of data collected\n",
    "\t\t2. Velocity: speed with which data is sent or received\n",
    "\t\t3. Variety: formats"
   ]
  },
  {
   "cell_type": "markdown",
   "metadata": {},
   "source": []
  },
  {
   "cell_type": "markdown",
   "metadata": {},
   "source": [
    "- **Machine Learning (ML)**\n",
    "\t* In finance, one can view ML as an attempt at *uncovering realationships between variables*\n",
    "\t* ML can also be seen as a *model-independent (or statistical or data-driven) way* for *recognizing patterns* in large data sets\n",
    "\n",
    "\t* **Supervised Learning** (regressions and classifications)\n",
    "\n",
    "\t* **Unsupervised Learning** (factor analyses and regime identification)\n",
    "\n",
    "\t* **Deep & Reinforced Learning**\n",
    "\t\t* Deep Learning is based on neural network algorithms and is used in processing unstructured data\n"
   ]
  },
  {
   "cell_type": "markdown",
   "metadata": {},
   "source": [
    "- **Artificial Intelligence (AI)**\n",
    "\n",
    "\t* ML is another attempt to achieve AI\n",
    "\n",
    "\t* ML and specifically Deep Learning so far represent the most serious attempt at achieving AI\n",
    "\n",
    "\t* While Deep Learning based AI can excel and beat humans in many tasks, it cannot do so in all. It is still struggling with some basic tasks such as the **Winograd Schema Challenge**\n"
   ]
  },
  {
   "cell_type": "heading",
   "metadata": {},
   "level": 2,
   "source": [
    "Classification of Alternative Data Sets"
   ]
  },
  {
   "cell_type": "markdown",
   "metadata": {},
   "source": [
    "- The advantage given by data can be in the form of uncovering new information not contained in traditional sources, or uncovering the same information but at an earlier time\n",
    "\n",
    "\t* Satellite imagery of mines or agricultural land can reveal supply disruptions before they are broadly reported in the news or official reports"
   ]
  },
  {
   "cell_type": "heading",
   "metadata": {},
   "level": 3,
   "source": [
    "Classsification of Data Sources"
   ]
  },
  {
   "cell_type": "markdown",
   "metadata": {},
   "source": [
    "1. Data generated by Individuals\n",
    "\n",
    "\t* Often in unstructured textual formats, needs Natural Language Processing\n",
    "\n",
    "2. Sensor generated data\n",
    "\n",
    "\t* Tends to be unstructured and may require analysis techniques such as counting objects, or removing the impact of weather/clouds from a satellite image\n",
    "\n",
    "3. Business generated datasets\n",
    "\n",
    "\t* Such as credit card transactions and company \"exhaust\" data have common legal and privacy considerations"
   ]
  },
  {
   "cell_type": "code",
   "execution_count": null,
   "metadata": {},
   "outputs": [],
   "source": []
  }
 ],
 "metadata": {
  "kernelspec": {
   "display_name": "Python 2",
   "language": "python",
   "name": "python2"
  },
  "language_info": {
   "codemirror_mode": {
    "name": "ipython",
    "version": 2
   },
   "file_extension": ".py",
   "mimetype": "text/x-python",
   "name": "python",
   "nbconvert_exporter": "python",
   "pygments_lexer": "ipython2",
   "version": "2.7.6"
  }
 },
 "nbformat": 4,
 "nbformat_minor": 0
}
